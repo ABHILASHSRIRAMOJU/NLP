{
  "nbformat": 4,
  "nbformat_minor": 0,
  "metadata": {
    "colab": {
      "name": "NLP_Basics.ipynb",
      "provenance": [],
      "collapsed_sections": []
    },
    "kernelspec": {
      "name": "python3",
      "display_name": "Python 3"
    },
    "language_info": {
      "name": "python"
    }
  },
  "cells": [
    {
      "cell_type": "markdown",
      "metadata": {
        "id": "brPx1brk3q05"
      },
      "source": [
        "This Notebook is for understanding thee NLP Basics from the data related to the Customer support from twitter "
      ]
    },
    {
      "cell_type": "code",
      "metadata": {
        "colab": {
          "base_uri": "https://localhost:8080/"
        },
        "id": "1Sx_zbLcbR3h",
        "outputId": "9774c4c9-fa76-41e5-e0e9-7b79708a10a1"
      },
      "source": [
        "from google.colab import drive \n",
        "drive.mount('/content/drive')\n"
      ],
      "execution_count": null,
      "outputs": [
        {
          "output_type": "stream",
          "text": [
            "Mounted at /content/drive\n"
          ],
          "name": "stdout"
        }
      ]
    },
    {
      "cell_type": "code",
      "metadata": {
        "id": "tAzCM2DfcC84"
      },
      "source": [
        "import pandas as pd \n",
        "import numpy as np\n",
        "import re\n",
        "import nltk \n",
        "import spacy\n",
        "import string"
      ],
      "execution_count": 100,
      "outputs": []
    },
    {
      "cell_type": "code",
      "metadata": {
        "id": "eKeN4xQ_cg9m"
      },
      "source": [
        "df = pd.read_csv('/content/drive/MyDrive/NLP Basics/sample.csv')"
      ],
      "execution_count": 101,
      "outputs": []
    },
    {
      "cell_type": "code",
      "metadata": {
        "colab": {
          "base_uri": "https://localhost:8080/",
          "height": 203
        },
        "id": "-SzQjWFHcodV",
        "outputId": "aa639b36-b8db-47cd-8cc5-66ee81c9a601"
      },
      "source": [
        "df.head()"
      ],
      "execution_count": 102,
      "outputs": [
        {
          "output_type": "execute_result",
          "data": {
            "text/html": [
              "<div>\n",
              "<style scoped>\n",
              "    .dataframe tbody tr th:only-of-type {\n",
              "        vertical-align: middle;\n",
              "    }\n",
              "\n",
              "    .dataframe tbody tr th {\n",
              "        vertical-align: top;\n",
              "    }\n",
              "\n",
              "    .dataframe thead th {\n",
              "        text-align: right;\n",
              "    }\n",
              "</style>\n",
              "<table border=\"1\" class=\"dataframe\">\n",
              "  <thead>\n",
              "    <tr style=\"text-align: right;\">\n",
              "      <th></th>\n",
              "      <th>tweet_id</th>\n",
              "      <th>author_id</th>\n",
              "      <th>inbound</th>\n",
              "      <th>created_at</th>\n",
              "      <th>text</th>\n",
              "      <th>response_tweet_id</th>\n",
              "      <th>in_response_to_tweet_id</th>\n",
              "    </tr>\n",
              "  </thead>\n",
              "  <tbody>\n",
              "    <tr>\n",
              "      <th>0</th>\n",
              "      <td>119237</td>\n",
              "      <td>105834</td>\n",
              "      <td>True</td>\n",
              "      <td>Wed Oct 11 06:55:44 +0000 2017</td>\n",
              "      <td>@AppleSupport causing the reply to be disregar...</td>\n",
              "      <td>119236</td>\n",
              "      <td>nan</td>\n",
              "    </tr>\n",
              "    <tr>\n",
              "      <th>1</th>\n",
              "      <td>119238</td>\n",
              "      <td>ChaseSupport</td>\n",
              "      <td>False</td>\n",
              "      <td>Wed Oct 11 13:25:49 +0000 2017</td>\n",
              "      <td>@105835 Your business means a lot to us. Pleas...</td>\n",
              "      <td>NaN</td>\n",
              "      <td>119,239</td>\n",
              "    </tr>\n",
              "    <tr>\n",
              "      <th>2</th>\n",
              "      <td>119239</td>\n",
              "      <td>105835</td>\n",
              "      <td>True</td>\n",
              "      <td>Wed Oct 11 13:00:09 +0000 2017</td>\n",
              "      <td>@76328 I really hope you all change but I'm su...</td>\n",
              "      <td>119238</td>\n",
              "      <td>nan</td>\n",
              "    </tr>\n",
              "    <tr>\n",
              "      <th>3</th>\n",
              "      <td>119240</td>\n",
              "      <td>VirginTrains</td>\n",
              "      <td>False</td>\n",
              "      <td>Tue Oct 10 15:16:08 +0000 2017</td>\n",
              "      <td>@105836 LiveChat is online at the moment - htt...</td>\n",
              "      <td>119241</td>\n",
              "      <td>119,242</td>\n",
              "    </tr>\n",
              "    <tr>\n",
              "      <th>4</th>\n",
              "      <td>119241</td>\n",
              "      <td>105836</td>\n",
              "      <td>True</td>\n",
              "      <td>Tue Oct 10 15:17:21 +0000 2017</td>\n",
              "      <td>@VirginTrains see attached error message. I've...</td>\n",
              "      <td>119243</td>\n",
              "      <td>119,240</td>\n",
              "    </tr>\n",
              "  </tbody>\n",
              "</table>\n",
              "</div>"
            ],
            "text/plain": [
              "   tweet_id     author_id  ...  response_tweet_id in_response_to_tweet_id\n",
              "0    119237        105834  ...             119236                     nan\n",
              "1    119238  ChaseSupport  ...                NaN                 119,239\n",
              "2    119239        105835  ...             119238                     nan\n",
              "3    119240  VirginTrains  ...             119241                 119,242\n",
              "4    119241        105836  ...             119243                 119,240\n",
              "\n",
              "[5 rows x 7 columns]"
            ]
          },
          "metadata": {
            "tags": []
          },
          "execution_count": 102
        }
      ]
    },
    {
      "cell_type": "code",
      "metadata": {
        "colab": {
          "base_uri": "https://localhost:8080/"
        },
        "id": "9k7ZaVyqc7Lh",
        "outputId": "dfbe2c68-aaca-4eae-caad-94c8696c9e9b"
      },
      "source": [
        "df['text'].count()\n",
        "df.shape"
      ],
      "execution_count": 103,
      "outputs": [
        {
          "output_type": "execute_result",
          "data": {
            "text/plain": [
              "(93, 7)"
            ]
          },
          "metadata": {
            "tags": []
          },
          "execution_count": 103
        }
      ]
    },
    {
      "cell_type": "code",
      "metadata": {
        "colab": {
          "base_uri": "https://localhost:8080/"
        },
        "id": "rb14wWQDdNGP",
        "outputId": "70a1de43-79f5-44e2-8e1f-af7855acced9"
      },
      "source": [
        "df['text_lower'] = df['text'].str.lower()\n",
        "\n",
        "df.shape"
      ],
      "execution_count": 104,
      "outputs": [
        {
          "output_type": "execute_result",
          "data": {
            "text/plain": [
              "(93, 8)"
            ]
          },
          "metadata": {
            "tags": []
          },
          "execution_count": 104
        }
      ]
    },
    {
      "cell_type": "markdown",
      "metadata": {
        "id": "etaXH34gkbju"
      },
      "source": [
        "To remove the punctuation from the text"
      ]
    },
    {
      "cell_type": "code",
      "metadata": {
        "id": "BhKmBAs8dpIh"
      },
      "source": [
        "#df.drop(['text_lower'],axis =1, inplace=True)\n",
        "\n",
        "PUNCT_TO_REMOVE = string.punctuation\n",
        "\n",
        "def remove_punctuation(text):\n",
        "  return text.translate(str.maketrans('','',PUNCT_TO_REMOVE))\n",
        "\n",
        "df[\"text_to_Punctuation\"] = df['text_lower'].apply(lambda text: remove_punctuation(text))\n"
      ],
      "execution_count": 105,
      "outputs": []
    },
    {
      "cell_type": "code",
      "metadata": {
        "colab": {
          "base_uri": "https://localhost:8080/"
        },
        "id": "TP4LD9ZNnzU-",
        "outputId": "619987e9-13bd-4694-e771-ccfb6c14702b"
      },
      "source": [
        "df.shape"
      ],
      "execution_count": 106,
      "outputs": [
        {
          "output_type": "execute_result",
          "data": {
            "text/plain": [
              "(93, 9)"
            ]
          },
          "metadata": {
            "tags": []
          },
          "execution_count": 106
        }
      ]
    },
    {
      "cell_type": "markdown",
      "metadata": {
        "id": "HvvBEsaqIoaF"
      },
      "source": [
        "STOPWORDS Removal "
      ]
    },
    {
      "cell_type": "code",
      "metadata": {
        "colab": {
          "base_uri": "https://localhost:8080/"
        },
        "id": "V6jV2LW1D4As",
        "outputId": "9899712e-0487-4340-ed9d-85fcf592bd15"
      },
      "source": [
        "#Importing the libraries for the removal of the Stopwords\n",
        "from nltk import WordNetLemmatizer \n",
        "from nltk.corpus import stopwords\n",
        "nltk.download(\"stopwords\")\n",
        "STOPWORDS = set(stopwords.words('english'))\n",
        "\n",
        "\n",
        "\n",
        "##Defining the Function for the removal of the StopWords\n",
        "def remove_stopwords(text):\n",
        "  tokens = str(text).split(\" \")\n",
        "  tokens_filtered = [word for word in tokens if word not in STOPWORDS]\n",
        "  return (\" \").join(tokens_filtered)\n",
        "  #return \" \".join([word for word in str(text).split() if word not in STOPWORDS])\n",
        "\n",
        "#####Here adding the other column of the Text where the stopwords have been removed  \n",
        "##\n",
        "df['text_to_stopWOrds'] = df[\"text_to_Punctuation\"].apply(lambda text: remove_stopwords(text))\n",
        "df.shape\n"
      ],
      "execution_count": 107,
      "outputs": [
        {
          "output_type": "stream",
          "text": [
            "[nltk_data] Downloading package stopwords to /root/nltk_data...\n",
            "[nltk_data]   Package stopwords is already up-to-date!\n"
          ],
          "name": "stdout"
        },
        {
          "output_type": "execute_result",
          "data": {
            "text/plain": [
              "(93, 10)"
            ]
          },
          "metadata": {
            "tags": []
          },
          "execution_count": 107
        }
      ]
    },
    {
      "cell_type": "markdown",
      "metadata": {
        "id": "4J4yWOJI1TeA"
      },
      "source": [
        "Removing the most common words"
      ]
    },
    {
      "cell_type": "code",
      "metadata": {
        "colab": {
          "base_uri": "https://localhost:8080/"
        },
        "id": "KZ_hSPknyabK",
        "outputId": "a7be6657-934a-40c5-cd0d-d6601db8f19f"
      },
      "source": [
        "from collections import Counter\n",
        "\n",
        "cnt = Counter()\n",
        "\n",
        "for text in df[\"text_to_stopWOrds\"].values:\n",
        "  for word in text.split():\n",
        "    cnt[word] +=1\n",
        "\n",
        "\n",
        "###most_common() helps in producing the k frequqntly encountered \n",
        "##input values and their respective counts\n",
        "cnt.most_common(10)\n",
        "\n",
        "FREQUENT_WORDS = set([w for (w,wc) in cnt.most_common(10)])\n",
        "\n",
        "def remove_frequentwords(text):\n",
        "  return \" \".join([word for word in str(text).split() if word not in FREQUENT_WORDS])\n",
        "\n",
        "df[\"text_words_stopfrequency\"] = df[\"text_to_stopWOrds\"].apply(lambda text:remove_frequentwords(text))\n",
        "df.shape"
      ],
      "execution_count": 108,
      "outputs": [
        {
          "output_type": "execute_result",
          "data": {
            "text/plain": [
              "(93, 11)"
            ]
          },
          "metadata": {
            "tags": []
          },
          "execution_count": 108
        }
      ]
    },
    {
      "cell_type": "code",
      "metadata": {
        "colab": {
          "base_uri": "https://localhost:8080/",
          "height": 475
        },
        "id": "KH5avG5noieC",
        "outputId": "12fc0c2a-41e0-4b59-bc40-2f09813500a8"
      },
      "source": [
        "df.head()"
      ],
      "execution_count": 109,
      "outputs": [
        {
          "output_type": "execute_result",
          "data": {
            "text/html": [
              "<div>\n",
              "<style scoped>\n",
              "    .dataframe tbody tr th:only-of-type {\n",
              "        vertical-align: middle;\n",
              "    }\n",
              "\n",
              "    .dataframe tbody tr th {\n",
              "        vertical-align: top;\n",
              "    }\n",
              "\n",
              "    .dataframe thead th {\n",
              "        text-align: right;\n",
              "    }\n",
              "</style>\n",
              "<table border=\"1\" class=\"dataframe\">\n",
              "  <thead>\n",
              "    <tr style=\"text-align: right;\">\n",
              "      <th></th>\n",
              "      <th>tweet_id</th>\n",
              "      <th>author_id</th>\n",
              "      <th>inbound</th>\n",
              "      <th>created_at</th>\n",
              "      <th>text</th>\n",
              "      <th>response_tweet_id</th>\n",
              "      <th>in_response_to_tweet_id</th>\n",
              "      <th>text_lower</th>\n",
              "      <th>text_to_Punctuation</th>\n",
              "      <th>text_to_stopWOrds</th>\n",
              "      <th>text_words_stopfrequency</th>\n",
              "    </tr>\n",
              "  </thead>\n",
              "  <tbody>\n",
              "    <tr>\n",
              "      <th>0</th>\n",
              "      <td>119237</td>\n",
              "      <td>105834</td>\n",
              "      <td>True</td>\n",
              "      <td>Wed Oct 11 06:55:44 +0000 2017</td>\n",
              "      <td>@AppleSupport causing the reply to be disregar...</td>\n",
              "      <td>119236</td>\n",
              "      <td>nan</td>\n",
              "      <td>@applesupport causing the reply to be disregar...</td>\n",
              "      <td>applesupport causing the reply to be disregard...</td>\n",
              "      <td>applesupport causing reply disregarded tapped ...</td>\n",
              "      <td>causing reply disregarded tapped notification ...</td>\n",
              "    </tr>\n",
              "    <tr>\n",
              "      <th>1</th>\n",
              "      <td>119238</td>\n",
              "      <td>ChaseSupport</td>\n",
              "      <td>False</td>\n",
              "      <td>Wed Oct 11 13:25:49 +0000 2017</td>\n",
              "      <td>@105835 Your business means a lot to us. Pleas...</td>\n",
              "      <td>NaN</td>\n",
              "      <td>119,239</td>\n",
              "      <td>@105835 your business means a lot to us. pleas...</td>\n",
              "      <td>105835 your business means a lot to us please ...</td>\n",
              "      <td>105835 business means lot us please dm name zi...</td>\n",
              "      <td>105835 business means lot name zip code additi...</td>\n",
              "    </tr>\n",
              "    <tr>\n",
              "      <th>2</th>\n",
              "      <td>119239</td>\n",
              "      <td>105835</td>\n",
              "      <td>True</td>\n",
              "      <td>Wed Oct 11 13:00:09 +0000 2017</td>\n",
              "      <td>@76328 I really hope you all change but I'm su...</td>\n",
              "      <td>119238</td>\n",
              "      <td>nan</td>\n",
              "      <td>@76328 i really hope you all change but i'm su...</td>\n",
              "      <td>76328 i really hope you all change but im sure...</td>\n",
              "      <td>76328 really hope change im sure wont dont</td>\n",
              "      <td>76328 really hope change im sure wont dont</td>\n",
              "    </tr>\n",
              "    <tr>\n",
              "      <th>3</th>\n",
              "      <td>119240</td>\n",
              "      <td>VirginTrains</td>\n",
              "      <td>False</td>\n",
              "      <td>Tue Oct 10 15:16:08 +0000 2017</td>\n",
              "      <td>@105836 LiveChat is online at the moment - htt...</td>\n",
              "      <td>119241</td>\n",
              "      <td>119,242</td>\n",
              "      <td>@105836 livechat is online at the moment - htt...</td>\n",
              "      <td>105836 livechat is online at the moment  https...</td>\n",
              "      <td>105836 livechat online moment  httpstcosy94vtu...</td>\n",
              "      <td>105836 livechat online moment httpstcosy94vtu8...</td>\n",
              "    </tr>\n",
              "    <tr>\n",
              "      <th>4</th>\n",
              "      <td>119241</td>\n",
              "      <td>105836</td>\n",
              "      <td>True</td>\n",
              "      <td>Tue Oct 10 15:17:21 +0000 2017</td>\n",
              "      <td>@VirginTrains see attached error message. I've...</td>\n",
              "      <td>119243</td>\n",
              "      <td>119,240</td>\n",
              "      <td>@virgintrains see attached error message. i've...</td>\n",
              "      <td>virgintrains see attached error message ive tr...</td>\n",
              "      <td>virgintrains see attached error message ive tr...</td>\n",
              "      <td>virgintrains see attached error message tried ...</td>\n",
              "    </tr>\n",
              "  </tbody>\n",
              "</table>\n",
              "</div>"
            ],
            "text/plain": [
              "   tweet_id  ...                           text_words_stopfrequency\n",
              "0    119237  ...  causing reply disregarded tapped notification ...\n",
              "1    119238  ...  105835 business means lot name zip code additi...\n",
              "2    119239  ...         76328 really hope change im sure wont dont\n",
              "3    119240  ...  105836 livechat online moment httpstcosy94vtu8...\n",
              "4    119241  ...  virgintrains see attached error message tried ...\n",
              "\n",
              "[5 rows x 11 columns]"
            ]
          },
          "metadata": {
            "tags": []
          },
          "execution_count": 109
        }
      ]
    },
    {
      "cell_type": "code",
      "metadata": {
        "id": "AV_aKNlPpWx_"
      },
      "source": [
        "from nltk.stem.porter import PorterStemmer\n",
        "\n",
        "STEMMER = PorterStemmer()\n",
        "\n",
        "def stem_porter(text):\n",
        "  return \" \".join([STEMMER.stem(word) for word in text.split()])\n",
        "\n",
        "df[\"text_stemming\"] = df['text'].apply(lambda text: stem_porter(text))\n",
        "\n",
        "\n"
      ],
      "execution_count": 110,
      "outputs": []
    },
    {
      "cell_type": "code",
      "metadata": {
        "colab": {
          "base_uri": "https://localhost:8080/"
        },
        "id": "87mKoz2kqNWe",
        "outputId": "043b01d9-70d6-4af8-e37e-ebef8f277637"
      },
      "source": [
        "df.shape"
      ],
      "execution_count": 111,
      "outputs": [
        {
          "output_type": "execute_result",
          "data": {
            "text/plain": [
              "(93, 12)"
            ]
          },
          "metadata": {
            "tags": []
          },
          "execution_count": 111
        }
      ]
    },
    {
      "cell_type": "code",
      "metadata": {
        "colab": {
          "base_uri": "https://localhost:8080/"
        },
        "id": "Lkh7kKOHqQ5a",
        "outputId": "09255b51-4a86-4a6f-989b-f94d69075e86"
      },
      "source": [
        "from nltk.stem import WordNetLemmatizer\n",
        "nltk.download('wordnet')\n",
        "#nltk.download(WordNetLemmatizer)"
      ],
      "execution_count": 112,
      "outputs": [
        {
          "output_type": "stream",
          "text": [
            "[nltk_data] Downloading package wordnet to /root/nltk_data...\n",
            "[nltk_data]   Package wordnet is already up-to-date!\n"
          ],
          "name": "stdout"
        },
        {
          "output_type": "execute_result",
          "data": {
            "text/plain": [
              "True"
            ]
          },
          "metadata": {
            "tags": []
          },
          "execution_count": 112
        }
      ]
    },
    {
      "cell_type": "code",
      "metadata": {
        "colab": {
          "base_uri": "https://localhost:8080/"
        },
        "id": "8XOXx-1trEai",
        "outputId": "0730510f-dec1-4b81-ad11-1168d1c6e3e6"
      },
      "source": [
        "LEMMATIZER = WordNetLemmatizer()\n",
        "\n",
        "def word_lemmatizer(text):\n",
        "  return \" \".join([LEMMATIZER.lemmatize(word) for word in text.split()])\n",
        "\n",
        "df[\"text_lemmatize\"] = df[\"text\"].apply(lambda text: word_lemmatizer(text))\n",
        "\n",
        "df.shape"
      ],
      "execution_count": 113,
      "outputs": [
        {
          "output_type": "execute_result",
          "data": {
            "text/plain": [
              "(93, 13)"
            ]
          },
          "metadata": {
            "tags": []
          },
          "execution_count": 113
        }
      ]
    },
    {
      "cell_type": "code",
      "metadata": {
        "colab": {
          "base_uri": "https://localhost:8080/"
        },
        "id": "yaHlYaNAvn2Q",
        "outputId": "7b7db51e-ecbc-4d23-aaf7-b9d8694ad2ce"
      },
      "source": [
        "from nltk.corpus import wordnet\n",
        "from nltk.stem import WordNetLemmatizer\n",
        "\n",
        "nltk.download('averaged_perceptron_tagger')\n",
        "\n",
        "LEMMATIZER = WordNetLemmatizer()\n",
        "\n",
        "wordnet_mapping = {\"N\":wordnet.NOUN, \"V\":wordnet.VERB, \"J\":wordnet.ADJ, \"R\":wordnet.ADV}\n",
        "\n",
        "def lemmatize_word(text):\n",
        "  pos_tagging = nltk.pos_tag(text.split())\n",
        "  return \" \".join([LEMMATIZER.lemmatize(word, wordnet_mapping.get(pos[0],wordnet.NOUN)) for word, pos in pos_tagging])\n",
        "  \n",
        "df[\"text_lemmatize_by_pos\"] = df[\"text\"].apply(lambda text: lemmatize_word(text))\n",
        "df.shape"
      ],
      "execution_count": 114,
      "outputs": [
        {
          "output_type": "stream",
          "text": [
            "[nltk_data] Downloading package averaged_perceptron_tagger to\n",
            "[nltk_data]     /root/nltk_data...\n",
            "[nltk_data]   Package averaged_perceptron_tagger is already up-to-\n",
            "[nltk_data]       date!\n"
          ],
          "name": "stdout"
        },
        {
          "output_type": "execute_result",
          "data": {
            "text/plain": [
              "(93, 14)"
            ]
          },
          "metadata": {
            "tags": []
          },
          "execution_count": 114
        }
      ]
    },
    {
      "cell_type": "code",
      "metadata": {
        "colab": {
          "base_uri": "https://localhost:8080/",
          "height": 475
        },
        "id": "OuPjqvAesfBz",
        "outputId": "d56d841f-3929-4c6e-ba28-2f7e7b378c6e"
      },
      "source": [
        "df.head()"
      ],
      "execution_count": 115,
      "outputs": [
        {
          "output_type": "execute_result",
          "data": {
            "text/html": [
              "<div>\n",
              "<style scoped>\n",
              "    .dataframe tbody tr th:only-of-type {\n",
              "        vertical-align: middle;\n",
              "    }\n",
              "\n",
              "    .dataframe tbody tr th {\n",
              "        vertical-align: top;\n",
              "    }\n",
              "\n",
              "    .dataframe thead th {\n",
              "        text-align: right;\n",
              "    }\n",
              "</style>\n",
              "<table border=\"1\" class=\"dataframe\">\n",
              "  <thead>\n",
              "    <tr style=\"text-align: right;\">\n",
              "      <th></th>\n",
              "      <th>tweet_id</th>\n",
              "      <th>author_id</th>\n",
              "      <th>inbound</th>\n",
              "      <th>created_at</th>\n",
              "      <th>text</th>\n",
              "      <th>response_tweet_id</th>\n",
              "      <th>in_response_to_tweet_id</th>\n",
              "      <th>text_lower</th>\n",
              "      <th>text_to_Punctuation</th>\n",
              "      <th>text_to_stopWOrds</th>\n",
              "      <th>text_words_stopfrequency</th>\n",
              "      <th>text_stemming</th>\n",
              "      <th>text_lemmatize</th>\n",
              "      <th>text_lemmatize_by_pos</th>\n",
              "    </tr>\n",
              "  </thead>\n",
              "  <tbody>\n",
              "    <tr>\n",
              "      <th>0</th>\n",
              "      <td>119237</td>\n",
              "      <td>105834</td>\n",
              "      <td>True</td>\n",
              "      <td>Wed Oct 11 06:55:44 +0000 2017</td>\n",
              "      <td>@AppleSupport causing the reply to be disregar...</td>\n",
              "      <td>119236</td>\n",
              "      <td>nan</td>\n",
              "      <td>@applesupport causing the reply to be disregar...</td>\n",
              "      <td>applesupport causing the reply to be disregard...</td>\n",
              "      <td>applesupport causing reply disregarded tapped ...</td>\n",
              "      <td>causing reply disregarded tapped notification ...</td>\n",
              "      <td>@applesupport caus the repli to be disregard a...</td>\n",
              "      <td>@AppleSupport causing the reply to be disregar...</td>\n",
              "      <td>@AppleSupport cause the reply to be disregard ...</td>\n",
              "    </tr>\n",
              "    <tr>\n",
              "      <th>1</th>\n",
              "      <td>119238</td>\n",
              "      <td>ChaseSupport</td>\n",
              "      <td>False</td>\n",
              "      <td>Wed Oct 11 13:25:49 +0000 2017</td>\n",
              "      <td>@105835 Your business means a lot to us. Pleas...</td>\n",
              "      <td>NaN</td>\n",
              "      <td>119,239</td>\n",
              "      <td>@105835 your business means a lot to us. pleas...</td>\n",
              "      <td>105835 your business means a lot to us please ...</td>\n",
              "      <td>105835 business means lot us please dm name zi...</td>\n",
              "      <td>105835 business means lot name zip code additi...</td>\n",
              "      <td>@105835 your busi mean a lot to us. pleas DM y...</td>\n",
              "      <td>@105835 Your business mean a lot to us. Please...</td>\n",
              "      <td>@105835 Your business mean a lot to us. Please...</td>\n",
              "    </tr>\n",
              "    <tr>\n",
              "      <th>2</th>\n",
              "      <td>119239</td>\n",
              "      <td>105835</td>\n",
              "      <td>True</td>\n",
              "      <td>Wed Oct 11 13:00:09 +0000 2017</td>\n",
              "      <td>@76328 I really hope you all change but I'm su...</td>\n",
              "      <td>119238</td>\n",
              "      <td>nan</td>\n",
              "      <td>@76328 i really hope you all change but i'm su...</td>\n",
              "      <td>76328 i really hope you all change but im sure...</td>\n",
              "      <td>76328 really hope change im sure wont dont</td>\n",
              "      <td>76328 really hope change im sure wont dont</td>\n",
              "      <td>@76328 I realli hope you all chang but i'm sur...</td>\n",
              "      <td>@76328 I really hope you all change but I'm su...</td>\n",
              "      <td>@76328 I really hope you all change but I'm su...</td>\n",
              "    </tr>\n",
              "    <tr>\n",
              "      <th>3</th>\n",
              "      <td>119240</td>\n",
              "      <td>VirginTrains</td>\n",
              "      <td>False</td>\n",
              "      <td>Tue Oct 10 15:16:08 +0000 2017</td>\n",
              "      <td>@105836 LiveChat is online at the moment - htt...</td>\n",
              "      <td>119241</td>\n",
              "      <td>119,242</td>\n",
              "      <td>@105836 livechat is online at the moment - htt...</td>\n",
              "      <td>105836 livechat is online at the moment  https...</td>\n",
              "      <td>105836 livechat online moment  httpstcosy94vtu...</td>\n",
              "      <td>105836 livechat online moment httpstcosy94vtu8...</td>\n",
              "      <td>@105836 livechat is onlin at the moment - http...</td>\n",
              "      <td>@105836 LiveChat is online at the moment - htt...</td>\n",
              "      <td>@105836 LiveChat be online at the moment - htt...</td>\n",
              "    </tr>\n",
              "    <tr>\n",
              "      <th>4</th>\n",
              "      <td>119241</td>\n",
              "      <td>105836</td>\n",
              "      <td>True</td>\n",
              "      <td>Tue Oct 10 15:17:21 +0000 2017</td>\n",
              "      <td>@VirginTrains see attached error message. I've...</td>\n",
              "      <td>119243</td>\n",
              "      <td>119,240</td>\n",
              "      <td>@virgintrains see attached error message. i've...</td>\n",
              "      <td>virgintrains see attached error message ive tr...</td>\n",
              "      <td>virgintrains see attached error message ive tr...</td>\n",
              "      <td>virgintrains see attached error message tried ...</td>\n",
              "      <td>@virgintrain see attach error message. i'v tri...</td>\n",
              "      <td>@VirginTrains see attached error message. I've...</td>\n",
              "      <td>@VirginTrains see attached error message. I've...</td>\n",
              "    </tr>\n",
              "  </tbody>\n",
              "</table>\n",
              "</div>"
            ],
            "text/plain": [
              "   tweet_id  ...                              text_lemmatize_by_pos\n",
              "0    119237  ...  @AppleSupport cause the reply to be disregard ...\n",
              "1    119238  ...  @105835 Your business mean a lot to us. Please...\n",
              "2    119239  ...  @76328 I really hope you all change but I'm su...\n",
              "3    119240  ...  @105836 LiveChat be online at the moment - htt...\n",
              "4    119241  ...  @VirginTrains see attached error message. I've...\n",
              "\n",
              "[5 rows x 14 columns]"
            ]
          },
          "metadata": {
            "tags": []
          },
          "execution_count": 115
        }
      ]
    },
    {
      "cell_type": "code",
      "metadata": {
        "id": "OiXZ49SYf3eV"
      },
      "source": [
        "twdf = pd.read_csv(\"/content/drive/MyDrive/NLP Basics/twcs.csv\")"
      ],
      "execution_count": 30,
      "outputs": []
    },
    {
      "cell_type": "code",
      "metadata": {
        "colab": {
          "base_uri": "https://localhost:8080/"
        },
        "id": "-uInErk9gW0X",
        "outputId": "3099bbc0-b73a-43e9-cae8-942ac22880a8"
      },
      "source": [
        "twdf.shape"
      ],
      "execution_count": 31,
      "outputs": [
        {
          "output_type": "execute_result",
          "data": {
            "text/plain": [
              "(2811774, 7)"
            ]
          },
          "metadata": {
            "tags": []
          },
          "execution_count": 31
        }
      ]
    },
    {
      "cell_type": "code",
      "metadata": {
        "colab": {
          "base_uri": "https://localhost:8080/"
        },
        "id": "kxlIMa2pgcyK",
        "outputId": "dcfb51ed-72b6-460e-bf6e-50c31ffad076"
      },
      "source": [
        "twdf.info()"
      ],
      "execution_count": 32,
      "outputs": [
        {
          "output_type": "stream",
          "text": [
            "<class 'pandas.core.frame.DataFrame'>\n",
            "RangeIndex: 2811774 entries, 0 to 2811773\n",
            "Data columns (total 7 columns):\n",
            " #   Column                   Dtype  \n",
            "---  ------                   -----  \n",
            " 0   tweet_id                 int64  \n",
            " 1   author_id                object \n",
            " 2   inbound                  bool   \n",
            " 3   created_at               object \n",
            " 4   text                     object \n",
            " 5   response_tweet_id        object \n",
            " 6   in_response_to_tweet_id  float64\n",
            "dtypes: bool(1), float64(1), int64(1), object(4)\n",
            "memory usage: 131.4+ MB\n"
          ],
          "name": "stdout"
        }
      ]
    },
    {
      "cell_type": "code",
      "metadata": {
        "colab": {
          "base_uri": "https://localhost:8080/",
          "height": 203
        },
        "id": "jhkdzfwQjDvc",
        "outputId": "4462323c-a3fa-4790-f472-e661fabc7231"
      },
      "source": [
        "twdf.head()"
      ],
      "execution_count": 33,
      "outputs": [
        {
          "output_type": "execute_result",
          "data": {
            "text/html": [
              "<div>\n",
              "<style scoped>\n",
              "    .dataframe tbody tr th:only-of-type {\n",
              "        vertical-align: middle;\n",
              "    }\n",
              "\n",
              "    .dataframe tbody tr th {\n",
              "        vertical-align: top;\n",
              "    }\n",
              "\n",
              "    .dataframe thead th {\n",
              "        text-align: right;\n",
              "    }\n",
              "</style>\n",
              "<table border=\"1\" class=\"dataframe\">\n",
              "  <thead>\n",
              "    <tr style=\"text-align: right;\">\n",
              "      <th></th>\n",
              "      <th>tweet_id</th>\n",
              "      <th>author_id</th>\n",
              "      <th>inbound</th>\n",
              "      <th>created_at</th>\n",
              "      <th>text</th>\n",
              "      <th>response_tweet_id</th>\n",
              "      <th>in_response_to_tweet_id</th>\n",
              "    </tr>\n",
              "  </thead>\n",
              "  <tbody>\n",
              "    <tr>\n",
              "      <th>0</th>\n",
              "      <td>1</td>\n",
              "      <td>sprintcare</td>\n",
              "      <td>False</td>\n",
              "      <td>Tue Oct 31 22:10:47 +0000 2017</td>\n",
              "      <td>@115712 I understand. I would like to assist y...</td>\n",
              "      <td>2</td>\n",
              "      <td>3</td>\n",
              "    </tr>\n",
              "    <tr>\n",
              "      <th>1</th>\n",
              "      <td>2</td>\n",
              "      <td>115712</td>\n",
              "      <td>True</td>\n",
              "      <td>Tue Oct 31 22:11:45 +0000 2017</td>\n",
              "      <td>@sprintcare and how do you propose we do that</td>\n",
              "      <td>NaN</td>\n",
              "      <td>1</td>\n",
              "    </tr>\n",
              "    <tr>\n",
              "      <th>2</th>\n",
              "      <td>3</td>\n",
              "      <td>115712</td>\n",
              "      <td>True</td>\n",
              "      <td>Tue Oct 31 22:08:27 +0000 2017</td>\n",
              "      <td>@sprintcare I have sent several private messag...</td>\n",
              "      <td>1</td>\n",
              "      <td>4</td>\n",
              "    </tr>\n",
              "    <tr>\n",
              "      <th>3</th>\n",
              "      <td>4</td>\n",
              "      <td>sprintcare</td>\n",
              "      <td>False</td>\n",
              "      <td>Tue Oct 31 21:54:49 +0000 2017</td>\n",
              "      <td>@115712 Please send us a Private Message so th...</td>\n",
              "      <td>3</td>\n",
              "      <td>5</td>\n",
              "    </tr>\n",
              "    <tr>\n",
              "      <th>4</th>\n",
              "      <td>5</td>\n",
              "      <td>115712</td>\n",
              "      <td>True</td>\n",
              "      <td>Tue Oct 31 21:49:35 +0000 2017</td>\n",
              "      <td>@sprintcare I did.</td>\n",
              "      <td>4</td>\n",
              "      <td>6</td>\n",
              "    </tr>\n",
              "  </tbody>\n",
              "</table>\n",
              "</div>"
            ],
            "text/plain": [
              "   tweet_id   author_id  ...  response_tweet_id in_response_to_tweet_id\n",
              "0         1  sprintcare  ...                  2                       3\n",
              "1         2      115712  ...                NaN                       1\n",
              "2         3      115712  ...                  1                       4\n",
              "3         4  sprintcare  ...                  3                       5\n",
              "4         5      115712  ...                  4                       6\n",
              "\n",
              "[5 rows x 7 columns]"
            ]
          },
          "metadata": {
            "tags": []
          },
          "execution_count": 33
        }
      ]
    },
    {
      "cell_type": "code",
      "metadata": {
        "id": "6CFeczC_gmYQ"
      },
      "source": [
        "pd.options.display.float_format = '{:,.0f}'.format\n",
        "answers = twdf.loc[twdf['author_id'] == 'sainsburys' ]"
      ],
      "execution_count": 34,
      "outputs": []
    },
    {
      "cell_type": "code",
      "metadata": {
        "colab": {
          "base_uri": "https://localhost:8080/"
        },
        "id": "_6kK_YB-ASwZ",
        "outputId": "234e6727-faf3-4d41-8e4c-79e9a55bf848"
      },
      "source": [
        "tweet_id_sc = pd.DataFrame(twdf.loc[twdf['author_id'] =='sprintcare','tweet_id'])\n",
        "type(tweet_id_sc)\n",
        "tweet_id_sc.info()"
      ],
      "execution_count": 35,
      "outputs": [
        {
          "output_type": "stream",
          "text": [
            "<class 'pandas.core.frame.DataFrame'>\n",
            "Int64Index: 22381 entries, 0 to 2811769\n",
            "Data columns (total 1 columns):\n",
            " #   Column    Non-Null Count  Dtype\n",
            "---  ------    --------------  -----\n",
            " 0   tweet_id  22381 non-null  int64\n",
            "dtypes: int64(1)\n",
            "memory usage: 349.7 KB\n"
          ],
          "name": "stdout"
        }
      ]
    },
    {
      "cell_type": "markdown",
      "metadata": {
        "id": "pbt3utF82nnx"
      },
      "source": [
        "To get the details of the Authors"
      ]
    },
    {
      "cell_type": "code",
      "metadata": {
        "colab": {
          "base_uri": "https://localhost:8080/",
          "height": 237
        },
        "id": "7btR1rqj2l6a",
        "outputId": "5eef14f6-7295-4df5-9bc6-f492a8e2207f"
      },
      "source": [
        "author_df = twdf['author_id']\n",
        "author_df = pd.DataFrame(author_df)\n",
        "print(\"Author details before removing Duplicates:\",author_df.shape)\n",
        "type(author_df)\n",
        "author_df.drop_duplicates(subset= 'author_id')\n",
        "print(\"Author Details after removing the duplicates:\",author_df.shape)\n",
        "author_df.head()\n"
      ],
      "execution_count": null,
      "outputs": [
        {
          "output_type": "stream",
          "text": [
            "Author details before removing Duplicates: (2811774, 1)\n",
            "Author Details after removing the duplicates: (2811774, 1)\n"
          ],
          "name": "stdout"
        },
        {
          "output_type": "execute_result",
          "data": {
            "text/html": [
              "<div>\n",
              "<style scoped>\n",
              "    .dataframe tbody tr th:only-of-type {\n",
              "        vertical-align: middle;\n",
              "    }\n",
              "\n",
              "    .dataframe tbody tr th {\n",
              "        vertical-align: top;\n",
              "    }\n",
              "\n",
              "    .dataframe thead th {\n",
              "        text-align: right;\n",
              "    }\n",
              "</style>\n",
              "<table border=\"1\" class=\"dataframe\">\n",
              "  <thead>\n",
              "    <tr style=\"text-align: right;\">\n",
              "      <th></th>\n",
              "      <th>author_id</th>\n",
              "    </tr>\n",
              "  </thead>\n",
              "  <tbody>\n",
              "    <tr>\n",
              "      <th>0</th>\n",
              "      <td>sprintcare</td>\n",
              "    </tr>\n",
              "    <tr>\n",
              "      <th>1</th>\n",
              "      <td>115712</td>\n",
              "    </tr>\n",
              "    <tr>\n",
              "      <th>2</th>\n",
              "      <td>115712</td>\n",
              "    </tr>\n",
              "    <tr>\n",
              "      <th>3</th>\n",
              "      <td>sprintcare</td>\n",
              "    </tr>\n",
              "    <tr>\n",
              "      <th>4</th>\n",
              "      <td>115712</td>\n",
              "    </tr>\n",
              "  </tbody>\n",
              "</table>\n",
              "</div>"
            ],
            "text/plain": [
              "    author_id\n",
              "0  sprintcare\n",
              "1      115712\n",
              "2      115712\n",
              "3  sprintcare\n",
              "4      115712"
            ]
          },
          "metadata": {
            "tags": []
          },
          "execution_count": 19
        }
      ]
    },
    {
      "cell_type": "code",
      "metadata": {
        "colab": {
          "base_uri": "https://localhost:8080/",
          "height": 610
        },
        "id": "FycJrOUgjM7i",
        "outputId": "898d6cdc-65b3-41fb-e7a6-b069b875b534"
      },
      "source": [
        "answers.head()"
      ],
      "execution_count": null,
      "outputs": [
        {
          "output_type": "execute_result",
          "data": {
            "text/html": [
              "<div>\n",
              "<style scoped>\n",
              "    .dataframe tbody tr th:only-of-type {\n",
              "        vertical-align: middle;\n",
              "    }\n",
              "\n",
              "    .dataframe tbody tr th {\n",
              "        vertical-align: top;\n",
              "    }\n",
              "\n",
              "    .dataframe thead th {\n",
              "        text-align: right;\n",
              "    }\n",
              "</style>\n",
              "<table border=\"1\" class=\"dataframe\">\n",
              "  <thead>\n",
              "    <tr style=\"text-align: right;\">\n",
              "      <th></th>\n",
              "      <th>tweet_id</th>\n",
              "      <th>author_id</th>\n",
              "      <th>inbound</th>\n",
              "      <th>created_at</th>\n",
              "      <th>text</th>\n",
              "      <th>response_tweet_id</th>\n",
              "      <th>in_response_to_tweet_id</th>\n",
              "    </tr>\n",
              "  </thead>\n",
              "  <tbody>\n",
              "    <tr>\n",
              "      <th>773</th>\n",
              "      <td>1324</td>\n",
              "      <td>sainsburys</td>\n",
              "      <td>False</td>\n",
              "      <td>Tue Oct 31 22:21:22 +0000 2017</td>\n",
              "      <td>@115957 ...products. By 2020, we'll make sure ...</td>\n",
              "      <td>NaN</td>\n",
              "      <td>1,325</td>\n",
              "    </tr>\n",
              "    <tr>\n",
              "      <th>2404</th>\n",
              "      <td>3313</td>\n",
              "      <td>sainsburys</td>\n",
              "      <td>False</td>\n",
              "      <td>Tue Oct 31 22:51:55 +0000 2017</td>\n",
              "      <td>@116480 Oh no! That's never good Wendy. Did yo...</td>\n",
              "      <td>3314</td>\n",
              "      <td>3,315</td>\n",
              "    </tr>\n",
              "    <tr>\n",
              "      <th>2406</th>\n",
              "      <td>3316</td>\n",
              "      <td>sainsburys</td>\n",
              "      <td>False</td>\n",
              "      <td>Tue Oct 31 23:13:22 +0000 2017</td>\n",
              "      <td>@116480 I advise going into store and speaking...</td>\n",
              "      <td>3317</td>\n",
              "      <td>3,314</td>\n",
              "    </tr>\n",
              "    <tr>\n",
              "      <th>2549</th>\n",
              "      <td>3476</td>\n",
              "      <td>sainsburys</td>\n",
              "      <td>False</td>\n",
              "      <td>Wed Nov 22 10:01:03 +0000 2017</td>\n",
              "      <td>@116534 Hi there, sorry about this. Could you ...</td>\n",
              "      <td>3477</td>\n",
              "      <td>3,478</td>\n",
              "    </tr>\n",
              "    <tr>\n",
              "      <th>2551</th>\n",
              "      <td>3479</td>\n",
              "      <td>sainsburys</td>\n",
              "      <td>False</td>\n",
              "      <td>Wed Nov 22 12:26:20 +0000 2017</td>\n",
              "      <td>@116534 Thank you, can you confirm the right p...</td>\n",
              "      <td>NaN</td>\n",
              "      <td>3,477</td>\n",
              "    </tr>\n",
              "  </tbody>\n",
              "</table>\n",
              "</div>"
            ],
            "text/plain": [
              "      tweet_id   author_id  ...  response_tweet_id in_response_to_tweet_id\n",
              "773       1324  sainsburys  ...                NaN                   1,325\n",
              "2404      3313  sainsburys  ...               3314                   3,315\n",
              "2406      3316  sainsburys  ...               3317                   3,314\n",
              "2549      3476  sainsburys  ...               3477                   3,478\n",
              "2551      3479  sainsburys  ...                NaN                   3,477\n",
              "\n",
              "[5 rows x 7 columns]"
            ]
          },
          "metadata": {
            "tags": []
          },
          "execution_count": 20
        }
      ]
    },
    {
      "cell_type": "code",
      "metadata": {
        "colab": {
          "base_uri": "https://localhost:8080/"
        },
        "id": "i67zlF_1jUY2",
        "outputId": "127d5827-969e-44eb-d21c-cf7dd36da878"
      },
      "source": [
        "answers.shape\n"
      ],
      "execution_count": null,
      "outputs": [
        {
          "output_type": "execute_result",
          "data": {
            "text/plain": [
              "(19466, 7)"
            ]
          },
          "metadata": {
            "tags": []
          },
          "execution_count": 53
        }
      ]
    },
    {
      "cell_type": "code",
      "metadata": {
        "colab": {
          "base_uri": "https://localhost:8080/"
        },
        "id": "56UyAy9jjO3s",
        "outputId": "4adf6d6a-75d8-4b0a-ec2d-dc1cdf498b9e"
      },
      "source": [
        "twdf.shape"
      ],
      "execution_count": null,
      "outputs": [
        {
          "output_type": "execute_result",
          "data": {
            "text/plain": [
              "(2811774, 7)"
            ]
          },
          "metadata": {
            "tags": []
          },
          "execution_count": 54
        }
      ]
    },
    {
      "cell_type": "code",
      "metadata": {
        "colab": {
          "base_uri": "https://localhost:8080/"
        },
        "id": "SQHRK-V-jf5v",
        "outputId": "805b37b8-a6aa-43dd-f181-8e68d92b40e4"
      },
      "source": [
        "answers.isnull"
      ],
      "execution_count": null,
      "outputs": [
        {
          "output_type": "execute_result",
          "data": {
            "text/plain": [
              "<bound method DataFrame.isnull of          tweet_id   author_id  ...  response_tweet_id in_response_to_tweet_id\n",
              "773          1324  sainsburys  ...                NaN                   1,325\n",
              "2404         3313  sainsburys  ...               3314                   3,315\n",
              "2406         3316  sainsburys  ...               3317                   3,314\n",
              "2549         3476  sainsburys  ...               3477                   3,478\n",
              "2551         3479  sainsburys  ...                NaN                   3,477\n",
              "...           ...         ...  ...                ...                     ...\n",
              "2804296   2980622  sainsburys  ...                NaN               2,980,623\n",
              "2805026   2981310  sainsburys  ...            2981311               2,981,312\n",
              "2805813   2982065  sainsburys  ...                NaN               2,982,066\n",
              "2807369   2983628  sainsburys  ...            2983629               2,983,630\n",
              "2810390   2780455  sainsburys  ...            2986593               2,780,454\n",
              "\n",
              "[19466 rows x 7 columns]>"
            ]
          },
          "metadata": {
            "tags": []
          },
          "execution_count": 55
        }
      ]
    },
    {
      "cell_type": "code",
      "metadata": {
        "colab": {
          "base_uri": "https://localhost:8080/"
        },
        "id": "MncUx63kjzlo",
        "outputId": "7d6dd871-6cf1-4622-8e28-bca2b3d153bf"
      },
      "source": [
        "answers.columns[answers.isnull().any()]"
      ],
      "execution_count": null,
      "outputs": [
        {
          "output_type": "execute_result",
          "data": {
            "text/plain": [
              "Index(['response_tweet_id', 'in_response_to_tweet_id'], dtype='object')"
            ]
          },
          "metadata": {
            "tags": []
          },
          "execution_count": 25
        }
      ]
    },
    {
      "cell_type": "code",
      "metadata": {
        "id": "S9s5tMN6uWLY"
      },
      "source": [
        ""
      ],
      "execution_count": null,
      "outputs": []
    }
  ]
}